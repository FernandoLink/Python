{
  "nbformat": 4,
  "nbformat_minor": 0,
  "metadata": {
    "colab": {
      "provenance": [],
      "collapsed_sections": [
        "ehKwJvXMbEuW"
      ],
      "toc_visible": true,
      "include_colab_link": true
    },
    "kernelspec": {
      "name": "python3",
      "display_name": "Python 3"
    },
    "language_info": {
      "name": "python"
    }
  },
  "cells": [
    {
      "cell_type": "markdown",
      "metadata": {
        "id": "view-in-github",
        "colab_type": "text"
      },
      "source": [
        "<a href=\"https://colab.research.google.com/github/FernandoLink/Python/blob/main/Trabalhando_com_sets_no_Python_%5BAlura%2B%5D.ipynb\" target=\"_parent\"><img src=\"https://colab.research.google.com/assets/colab-badge.svg\" alt=\"Open In Colab\"/></a>"
      ]
    },
    {
      "cell_type": "markdown",
      "source": [
        "# **Trabalhando com Sets no Python**"
      ],
      "metadata": {
        "id": "a_0iJT3mqcck"
      }
    },
    {
      "cell_type": "markdown",
      "source": [
        "## **Criação dos sets**"
      ],
      "metadata": {
        "id": "hwdXSll0wgSW"
      }
    },
    {
      "cell_type": "markdown",
      "source": [
        "### **Utilizando as chaves `{ }`:**\n",
        "\n",
        "\n"
      ],
      "metadata": {
        "id": "yfaf8Gn6jALR"
      }
    },
    {
      "cell_type": "code",
      "source": [
        "carros = {'Jetta Variant', 'Passat', 'Crossfox', 'Dodge Jorney'}\n",
        "\n",
        "print(carros)"
      ],
      "metadata": {
        "id": "FK3qZ08ckgXK",
        "colab": {
          "base_uri": "https://localhost:8080/"
        },
        "outputId": "5cb0afe6-5d84-4585-ea8a-7ac9b371d8cd"
      },
      "execution_count": 1,
      "outputs": [
        {
          "output_type": "stream",
          "name": "stdout",
          "text": [
            "{'Jetta Variant', 'Passat', 'Dodge Jorney', 'Crossfox'}\n"
          ]
        }
      ]
    },
    {
      "cell_type": "code",
      "source": [
        "# Sets com elementos diferentes\n",
        "\n",
        "elementos_diferentes = {2017, \"Onix\", 37123.04, True}\n",
        "print(elementos_diferentes)"
      ],
      "metadata": {
        "colab": {
          "base_uri": "https://localhost:8080/"
        },
        "id": "6A1qeFDQEKuM",
        "outputId": "7a81a00a-25ef-40b8-9f16-8900b2db6e78"
      },
      "execution_count": 2,
      "outputs": [
        {
          "output_type": "stream",
          "name": "stdout",
          "text": [
            "{2017, 37123.04, True, 'Onix'}\n"
          ]
        }
      ]
    },
    {
      "cell_type": "code",
      "source": [
        "carros[0]"
      ],
      "metadata": {
        "colab": {
          "base_uri": "https://localhost:8080/",
          "height": 166
        },
        "id": "LSffwZiinhIP",
        "outputId": "b3ca032c-af45-49dd-8023-8f28e6b989ce"
      },
      "execution_count": 3,
      "outputs": [
        {
          "output_type": "error",
          "ename": "TypeError",
          "evalue": "ignored",
          "traceback": [
            "\u001b[0;31m---------------------------------------------------------------------------\u001b[0m",
            "\u001b[0;31mTypeError\u001b[0m                                 Traceback (most recent call last)",
            "\u001b[0;32m<ipython-input-3-196d22ee0193>\u001b[0m in \u001b[0;36m<cell line: 1>\u001b[0;34m()\u001b[0m\n\u001b[0;32m----> 1\u001b[0;31m \u001b[0mcarros\u001b[0m\u001b[0;34m[\u001b[0m\u001b[0;36m0\u001b[0m\u001b[0;34m]\u001b[0m\u001b[0;34m\u001b[0m\u001b[0;34m\u001b[0m\u001b[0m\n\u001b[0m",
            "\u001b[0;31mTypeError\u001b[0m: 'set' object is not subscriptable"
          ]
        }
      ]
    },
    {
      "cell_type": "code",
      "source": [
        "for i in carros:\n",
        "  print(i)"
      ],
      "metadata": {
        "id": "dcccTfDPa_bH",
        "colab": {
          "base_uri": "https://localhost:8080/"
        },
        "outputId": "b3d306eb-f997-4e74-a055-616ad2a5462d"
      },
      "execution_count": 4,
      "outputs": [
        {
          "output_type": "stream",
          "name": "stdout",
          "text": [
            "Jetta Variant\n",
            "Passat\n",
            "Dodge Jorney\n",
            "Crossfox\n"
          ]
        }
      ]
    },
    {
      "cell_type": "markdown",
      "source": [
        "### **Utilizando listas e a função `set()`**"
      ],
      "metadata": {
        "id": "A7YsVhE6jHxL"
      }
    },
    {
      "cell_type": "code",
      "source": [
        "lista_escolas = ['Data Science', 'Programação', 'Front-end',\n",
        "                 'Mobile', 'DevOps', 'UX & Design', 'Inovação e Gestão']"
      ],
      "metadata": {
        "id": "SPF6Lemvr155"
      },
      "execution_count": 6,
      "outputs": []
    },
    {
      "cell_type": "code",
      "source": [
        "escolas_set = set(lista_escolas)\n",
        "\n",
        "print(escolas_set)"
      ],
      "metadata": {
        "colab": {
          "base_uri": "https://localhost:8080/"
        },
        "id": "z4XSX7EUQZTk",
        "outputId": "d403dd57-59d6-4725-e6b4-cee0cf1731a9"
      },
      "execution_count": 7,
      "outputs": [
        {
          "output_type": "stream",
          "name": "stdout",
          "text": [
            "{'Inovação e Gestão', 'Front-end', 'DevOps', 'UX & Design', 'Programação', 'Data Science', 'Mobile'}\n"
          ]
        }
      ]
    },
    {
      "cell_type": "markdown",
      "source": [
        "### **Trabalhando com elementos repetidos:**"
      ],
      "metadata": {
        "id": "L65NhBb1jawr"
      }
    },
    {
      "cell_type": "code",
      "source": [
        "lista_carros = ['Jetta Variant', 'Passat', 'Crossfox', 'Passat', 'Crossfox',\n",
        "                'Jetta Variant', 'Dodge Journey']\n",
        "nova_lista = set(lista_carros)"
      ],
      "metadata": {
        "id": "VzHw4PPKr1-O"
      },
      "execution_count": 8,
      "outputs": []
    },
    {
      "cell_type": "code",
      "source": [
        "# Utilizando a função len() para verificar a quantidade de elementos\n",
        "print(len(lista_carros))"
      ],
      "metadata": {
        "colab": {
          "base_uri": "https://localhost:8080/"
        },
        "id": "LZAOxogMd8qW",
        "outputId": "67266f82-dfdd-414e-a197-759e907615aa"
      },
      "execution_count": 9,
      "outputs": [
        {
          "output_type": "stream",
          "name": "stdout",
          "text": [
            "7\n"
          ]
        }
      ]
    },
    {
      "cell_type": "code",
      "source": [
        "print(nova_lista)"
      ],
      "metadata": {
        "colab": {
          "base_uri": "https://localhost:8080/"
        },
        "id": "rGMVqeWhd9YO",
        "outputId": "20ee2a28-87b4-4ccb-80db-4c92d10b118c"
      },
      "execution_count": 10,
      "outputs": [
        {
          "output_type": "stream",
          "name": "stdout",
          "text": [
            "{'Jetta Variant', 'Passat', 'Crossfox', 'Dodge Journey'}\n"
          ]
        }
      ]
    },
    {
      "cell_type": "code",
      "source": [
        "len(nova_lista)"
      ],
      "metadata": {
        "colab": {
          "base_uri": "https://localhost:8080/"
        },
        "id": "rXUxHPawWq8x",
        "outputId": "c4c20728-cd01-4ffb-d49a-34df18b5d4cd"
      },
      "execution_count": 11,
      "outputs": [
        {
          "output_type": "execute_result",
          "data": {
            "text/plain": [
              "4"
            ]
          },
          "metadata": {},
          "execution_count": 11
        }
      ]
    },
    {
      "cell_type": "markdown",
      "source": [
        "## **Operações com Sets**\n"
      ],
      "metadata": {
        "id": "U8Ur2s1KQlgv"
      }
    },
    {
      "cell_type": "markdown",
      "source": [
        "Para esse exercício, vamos precisar criar conjuntos com os **acessórios** de alguns modelos de carros, são eles: **Passat**, **Crossfox** e **Jetta Variant**."
      ],
      "metadata": {
        "id": "Jcko59YgXiT4"
      }
    },
    {
      "cell_type": "code",
      "source": [
        "acessorios_passat = {'Rodas de Liga', 'Travas Elétricas', 'Piloto Automático',\n",
        "                     'Central Multimídia'}\n",
        "print(acessorios_passat)"
      ],
      "metadata": {
        "colab": {
          "base_uri": "https://localhost:8080/"
        },
        "id": "zA95t7-YXoE4",
        "outputId": "47116848-6c28-4904-d200-47eac6ea0394"
      },
      "execution_count": 12,
      "outputs": [
        {
          "output_type": "stream",
          "name": "stdout",
          "text": [
            "{'Travas Elétricas', 'Central Multimídia', 'Rodas de Liga', 'Piloto Automático'}\n"
          ]
        }
      ]
    },
    {
      "cell_type": "code",
      "source": [
        "acessorios_crossfox = {'Piloto Automático', 'Teto Panorâmico', '4 X 4',\n",
        "                       'Central Multimídia'}\n",
        "print(acessorios_crossfox)"
      ],
      "metadata": {
        "colab": {
          "base_uri": "https://localhost:8080/"
        },
        "id": "lfgMiNEyXoE5",
        "outputId": "12f02dbd-b2de-4135-b010-26484509cc68"
      },
      "execution_count": 13,
      "outputs": [
        {
          "output_type": "stream",
          "name": "stdout",
          "text": [
            "{'Piloto Automático', 'Central Multimídia', 'Teto Panorâmico', '4 X 4'}\n"
          ]
        }
      ]
    },
    {
      "cell_type": "code",
      "source": [
        "acessorios_jetta = {'Controle de Estabilidade', 'Câmbio Automático', 'Travas Elétricas',\n",
        "                    'Rodas de Liga'}\n",
        "print(acessorios_jetta)"
      ],
      "metadata": {
        "colab": {
          "base_uri": "https://localhost:8080/"
        },
        "id": "2dsJa9sAXoE5",
        "outputId": "f14a1d33-9bee-4712-aed1-dfdfded62be0"
      },
      "execution_count": 14,
      "outputs": [
        {
          "output_type": "stream",
          "name": "stdout",
          "text": [
            "{'Travas Elétricas', 'Câmbio Automático', 'Rodas de Liga', 'Controle de Estabilidade'}\n"
          ]
        }
      ]
    },
    {
      "cell_type": "markdown",
      "source": [
        "### **Disjunção**"
      ],
      "metadata": {
        "id": "Pp7URtpTQnXn"
      }
    },
    {
      "cell_type": "markdown",
      "source": [
        "<img src='https://i.imgur.com/o2wsgPo.png' width = 50%>"
      ],
      "metadata": {
        "id": "IRmgINkLWsjs"
      }
    },
    {
      "cell_type": "code",
      "source": [
        "set.isdisjoint(acessorios_passat, acessorios_crossfox)"
      ],
      "metadata": {
        "colab": {
          "base_uri": "https://localhost:8080/"
        },
        "id": "n3GfcrMHW4nu",
        "outputId": "fbb60515-c6b3-4ded-9085-a48dd217f27b"
      },
      "execution_count": 15,
      "outputs": [
        {
          "output_type": "execute_result",
          "data": {
            "text/plain": [
              "False"
            ]
          },
          "metadata": {},
          "execution_count": 15
        }
      ]
    },
    {
      "cell_type": "markdown",
      "source": [
        "### **Interseção**"
      ],
      "metadata": {
        "id": "0YYUbNDFWpvB"
      }
    },
    {
      "cell_type": "markdown",
      "source": [
        "<img src='https://i.imgur.com/6W7bxU1.png' width = 50%>"
      ],
      "metadata": {
        "id": "0OPz9M8vW-BZ"
      }
    },
    {
      "cell_type": "code",
      "source": [
        "acessorios_passat & acessorios_crossfox"
      ],
      "metadata": {
        "colab": {
          "base_uri": "https://localhost:8080/"
        },
        "id": "7Xg8Tyb3XIbs",
        "outputId": "29b66177-3b2e-471d-de1d-6483440ba26b"
      },
      "execution_count": 16,
      "outputs": [
        {
          "output_type": "execute_result",
          "data": {
            "text/plain": [
              "{'Central Multimídia', 'Piloto Automático'}"
            ]
          },
          "metadata": {},
          "execution_count": 16
        }
      ]
    },
    {
      "cell_type": "code",
      "source": [
        "acessorios_passat & acessorios_jetta"
      ],
      "metadata": {
        "colab": {
          "base_uri": "https://localhost:8080/"
        },
        "id": "xQ6X-XbsYz_T",
        "outputId": "68c531e8-a112-43da-9558-e105666e6bd4"
      },
      "execution_count": 17,
      "outputs": [
        {
          "output_type": "execute_result",
          "data": {
            "text/plain": [
              "{'Rodas de Liga', 'Travas Elétricas'}"
            ]
          },
          "metadata": {},
          "execution_count": 17
        }
      ]
    },
    {
      "cell_type": "code",
      "source": [
        "set.intersection(acessorios_passat, acessorios_crossfox, acessorios_jetta)"
      ],
      "metadata": {
        "colab": {
          "base_uri": "https://localhost:8080/"
        },
        "id": "OHa9LqNdY2ht",
        "outputId": "d9033ecb-e78f-413b-d831-f7fe5840a242"
      },
      "execution_count": 18,
      "outputs": [
        {
          "output_type": "execute_result",
          "data": {
            "text/plain": [
              "set()"
            ]
          },
          "metadata": {},
          "execution_count": 18
        }
      ]
    },
    {
      "cell_type": "markdown",
      "source": [
        "### **União**"
      ],
      "metadata": {
        "id": "GzUoqpFVZGIu"
      }
    },
    {
      "cell_type": "markdown",
      "source": [
        "<img src='https://i.imgur.com/C3MrKmK.png' width = 50%>"
      ],
      "metadata": {
        "id": "Me_90Pk7ZG9d"
      }
    },
    {
      "cell_type": "code",
      "source": [
        "acessorios_passat | acessorios_crossfox"
      ],
      "metadata": {
        "colab": {
          "base_uri": "https://localhost:8080/"
        },
        "id": "kYo9i7g5WrX_",
        "outputId": "4405958d-051e-444b-ee28-08b41c5dad45"
      },
      "execution_count": 19,
      "outputs": [
        {
          "output_type": "execute_result",
          "data": {
            "text/plain": [
              "{'4 X 4',\n",
              " 'Central Multimídia',\n",
              " 'Piloto Automático',\n",
              " 'Rodas de Liga',\n",
              " 'Teto Panorâmico',\n",
              " 'Travas Elétricas'}"
            ]
          },
          "metadata": {},
          "execution_count": 19
        }
      ]
    },
    {
      "cell_type": "code",
      "source": [
        "set.union(acessorios_passat, acessorios_crossfox, acessorios_jetta, {'Teto Solar'})"
      ],
      "metadata": {
        "colab": {
          "base_uri": "https://localhost:8080/"
        },
        "id": "h7RZmv19auKU",
        "outputId": "e8122773-b6c8-4dd4-fa68-89ad27d92904"
      },
      "execution_count": 20,
      "outputs": [
        {
          "output_type": "execute_result",
          "data": {
            "text/plain": [
              "{'4 X 4',\n",
              " 'Central Multimídia',\n",
              " 'Controle de Estabilidade',\n",
              " 'Câmbio Automático',\n",
              " 'Piloto Automático',\n",
              " 'Rodas de Liga',\n",
              " 'Teto Panorâmico',\n",
              " 'Teto Solar',\n",
              " 'Travas Elétricas'}"
            ]
          },
          "metadata": {},
          "execution_count": 20
        }
      ]
    },
    {
      "cell_type": "markdown",
      "source": [
        "## **Perfomance**"
      ],
      "metadata": {
        "id": "wMelozu-ijag"
      }
    },
    {
      "cell_type": "code",
      "source": [
        "carros"
      ],
      "metadata": {
        "colab": {
          "base_uri": "https://localhost:8080/"
        },
        "id": "EhyRdV4CLvVX",
        "outputId": "8530708f-ddc8-4015-dc9e-88572ab674d9"
      },
      "execution_count": 21,
      "outputs": [
        {
          "output_type": "execute_result",
          "data": {
            "text/plain": [
              "{'Crossfox', 'Dodge Jorney', 'Jetta Variant', 'Passat'}"
            ]
          },
          "metadata": {},
          "execution_count": 21
        }
      ]
    },
    {
      "cell_type": "code",
      "source": [
        "'Crossfox' in carros"
      ],
      "metadata": {
        "colab": {
          "base_uri": "https://localhost:8080/"
        },
        "id": "PnRZ7Dp0Lwrt",
        "outputId": "4c006f57-0819-4eed-9309-5100b175e71a"
      },
      "execution_count": 22,
      "outputs": [
        {
          "output_type": "execute_result",
          "data": {
            "text/plain": [
              "True"
            ]
          },
          "metadata": {},
          "execution_count": 22
        }
      ]
    },
    {
      "cell_type": "markdown",
      "source": [
        "### **Perfomance com vários elementos**"
      ],
      "metadata": {
        "id": "xLpWitV6L0At"
      }
    },
    {
      "cell_type": "code",
      "source": [
        "elementos_set = set(range(10000))\n",
        "elementos_list = list(range(10000))\n",
        "elementos_tuple = tuple(range(10000))"
      ],
      "metadata": {
        "id": "-OErengzhloO"
      },
      "execution_count": 23,
      "outputs": []
    },
    {
      "cell_type": "code",
      "source": [
        "def verificar_elemento_in(elemento_iteravel):\n",
        "\n",
        "  for i in range(10000):\n",
        "    if i in elemento_iteravel:\n",
        "      pass"
      ],
      "metadata": {
        "id": "r5v0f69hhQpJ"
      },
      "execution_count": 24,
      "outputs": []
    },
    {
      "cell_type": "code",
      "source": [
        "print(\"Tempo de execução set: \")\n",
        "%time verificar_elemento_in(elementos_set)\n",
        "print(\"=\"*30)\n",
        "\n",
        "print(\"Tempo de execução lista: \")\n",
        "%time verificar_elemento_in(elementos_list)\n",
        "print(\"=\"*30)\n",
        "\n",
        "print(\"Tempo de execução tuplas: \")\n",
        "%time verificar_elemento_in(elementos_tuple)\n",
        "print(\"=\"*30)"
      ],
      "metadata": {
        "colab": {
          "base_uri": "https://localhost:8080/"
        },
        "id": "Ny1_EsyZJxea",
        "outputId": "d29cf38d-2d31-4117-9a7f-188fb10b0bb4"
      },
      "execution_count": 25,
      "outputs": [
        {
          "output_type": "stream",
          "name": "stdout",
          "text": [
            "Tempo de execução set: \n",
            "CPU times: user 1.02 ms, sys: 0 ns, total: 1.02 ms\n",
            "Wall time: 1.02 ms\n",
            "==============================\n",
            "Tempo de execução lista: \n",
            "CPU times: user 610 ms, sys: 0 ns, total: 610 ms\n",
            "Wall time: 613 ms\n",
            "==============================\n",
            "Tempo de execução tuplas: \n",
            "CPU times: user 539 ms, sys: 0 ns, total: 539 ms\n",
            "Wall time: 540 ms\n",
            "==============================\n"
          ]
        }
      ]
    }
  ]
}